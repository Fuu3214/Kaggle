{
 "cells": [
  {
   "cell_type": "code",
   "execution_count": 39,
   "metadata": {},
   "outputs": [],
   "source": [
    "import numpy as np\n",
    "import pandas as pd\n",
    "from collections import Counter\n",
    "from sklearn.model_selection import train_test_split\n",
    "from sklearn.base import BaseEstimator, TransformerMixin\n",
    "from sklearn.pipeline import Pipeline\n",
    "from sklearn.pipeline import make_pipeline\n",
    "\n",
    "from sklearn.model_selection import cross_val_score\n",
    "from sklearn.model_selection import cross_val_predict\n",
    "from sklearn.metrics import classification_report\n",
    "from sklearn.metrics import confusion_matrix\n",
    "\n",
    "import matplotlib.pyplot as plt\n",
    "\n",
    "import xgboost as xgb\n",
    "from sklearn.ensemble import RandomForestClassifier\n",
    "from sklearn.svm import SVC\n",
    "from sklearn.naive_bayes import GaussianNB\n",
    "from sklearn.neighbors import KNeighborsClassifier\n",
    "from sklearn.linear_model.logistic import LogisticRegression\n",
    "from sklearn.decomposition import PCA \n",
    "import lightgbm as lgb  \n",
    "\n",
    "from hyperopt import fmin, tpe, hp,space_eval,rand,Trials,partial,STATUS_OK\n",
    "from sklearn.model_selection import GridSearchCV\n",
    "\n",
    "from sklearn.ensemble import BaggingClassifier"
   ]
  },
  {
   "cell_type": "code",
   "execution_count": 40,
   "metadata": {
    "scrolled": true
   },
   "outputs": [],
   "source": [
    "def detect_outliers(df,n,features):\n",
    "    \"\"\"\n",
    "    Takes a dataframe df of features and returns a list of the indices\n",
    "    corresponding to the observations containing more than n outliers according\n",
    "    to the Tukey method.\n",
    "    \"\"\"\n",
    "    outlier_indices = []\n",
    "    \n",
    "    # iterate over features(columns)\n",
    "    for col in features:\n",
    "        # 1st quartile (25%)\n",
    "        Q1 = np.percentile(df[col], 25)\n",
    "        # 3rd quartile (75%)\n",
    "        Q3 = np.percentile(df[col],75)\n",
    "        # Interquartile range (IQR)\n",
    "        IQR = Q3 - Q1\n",
    "        \n",
    "        # outlier step\n",
    "        outlier_step = 1.5 * IQR\n",
    "        \n",
    "        # Determine a list of indices of outliers for feature col\n",
    "        outlier_list_col = df[(df[col] < Q1 - outlier_step) | (df[col] > Q3 + outlier_step )].index\n",
    "        \n",
    "        # append the found outlier indices for col to the list of outlier indices \n",
    "        outlier_indices.extend(outlier_list_col)\n",
    "        \n",
    "    # select observations containing more than 2 outliers\n",
    "    outlier_indices = Counter(outlier_indices)        \n",
    "    multiple_outliers = list( k for k, v in outlier_indices.items() if v > n )\n",
    "    \n",
    "    return multiple_outliers   "
   ]
  },
  {
   "cell_type": "code",
   "execution_count": 41,
   "metadata": {},
   "outputs": [],
   "source": [
    "def load_csv(filename):\n",
    "    col_names = {\n",
    "        'PassengerId': 'PassengerId',\n",
    "        'Survived': 'survived',\n",
    "        'Pclass': 'pclass',\n",
    "        'Name': 'name',\n",
    "        'Sex': 'sex',\n",
    "        'Age': 'age',\n",
    "        'SibSp': 'sibsp',\n",
    "        'Parch': 'parch',\n",
    "        'Ticket': 'ticket', \n",
    "        'Fare': 'fare',\n",
    "        'Cabin': 'cabin',\n",
    "        'Embarked': 'port',\n",
    "    }\n",
    "    exclude = [\n",
    "        'PassengerID'\n",
    "    ]\n",
    "    dtype = {\n",
    "        'Pclass': np.uint8,\n",
    "        'Age': np.float32,\n",
    "        'SibSp': np.uint8,\n",
    "        'Parch': np.uint8,\n",
    "        'Fare': np.float32,\n",
    "        'survived': np.uint8,\n",
    "    }\n",
    "    df = pd.read_csv(\n",
    "            filename,\n",
    "            dtype=dtype,\n",
    "            usecols=lambda x: x not in exclude,\n",
    "        ).rename(columns=col_names)\n",
    "    ycol = 'survived'\n",
    "    if ycol in df.columns:\n",
    "        return df,df.drop(columns=ycol),df[ycol]\n",
    "    else:\n",
    "        return df\n",
    "    \n",
    "def load_titanic():\n",
    "    train_csv = '../input/train.csv'\n",
    "    test_csv = '../input/test.csv'\n",
    "    \n",
    "    X_y,X,y = load_csv(train_csv)\n",
    "    test = load_csv(test_csv)\n",
    "    \n",
    "    traintest = (\n",
    "        pd.concat([X_y,test],axis = 0)\n",
    "        .reset_index(drop = True)\n",
    "    )\n",
    "\n",
    "    return X,y,test,traintest"
   ]
  },
  {
   "cell_type": "code",
   "execution_count": 42,
   "metadata": {},
   "outputs": [],
   "source": [
    "X,y,test,traintest = load_titanic()\n",
    "X_train, X_test, y_train, y_test = train_test_split(X, y, test_size=.3, random_state=0)"
   ]
  },
  {
   "cell_type": "code",
   "execution_count": 43,
   "metadata": {},
   "outputs": [],
   "source": [
    "def count_na(X):\n",
    "    nrows = traintest.shape[0]\n",
    "    for key in X.columns:\n",
    "        print('%s : %d   %f'%(key, X[key].isnull().sum(), X[key].isnull().sum()/nrows))"
   ]
  },
  {
   "cell_type": "code",
   "execution_count": 44,
   "metadata": {},
   "outputs": [],
   "source": [
    "def title(X):\n",
    "    officer = ['major','capt','don','rev','dr','col']\n",
    "    royalty = ['dona', 'lady', 'the countess','sir', 'jonkheer']\n",
    "    \n",
    "    targets = ['mme','mlle','ms']\n",
    "    values = ['mrs','miss','miss']\n",
    "    targets = targets + officer + royalty\n",
    "    \n",
    "    for i in range(len(officer)):\n",
    "        values.append('officer')\n",
    "    for i in range(len(royalty)):\n",
    "        values.append('royalty')\n",
    "\n",
    "    return(\n",
    "        X\n",
    "        .name\n",
    "        .str.lower()\n",
    "        .str.extract(r', ([a-z\\s]+).', expand=False)\n",
    "        .replace(targets,values)\n",
    "        .rename('title')\n",
    "    )"
   ]
  },
  {
   "cell_type": "code",
   "execution_count": 45,
   "metadata": {},
   "outputs": [],
   "source": [
    "def surname(X):\n",
    "    return(\n",
    "        X\n",
    "        .name\n",
    "        .str.lower()\n",
    "        .str.extract(r'(\\w+),', expand=False)\n",
    "        .rename('surname')\n",
    "    )\n",
    "xx = surname(X)"
   ]
  },
  {
   "cell_type": "code",
   "execution_count": 46,
   "metadata": {},
   "outputs": [],
   "source": [
    "def imputed_age(X):\n",
    "    df = pd.concat([traintest.age,title(traintest)],axis=1)\n",
    "    mean = df.groupby('title').median()\n",
    "    return(\n",
    "        pd.concat([X.age,title(X)],axis = 1)\n",
    "        .apply(lambda x: x.age == x.age and x.age or mean.loc[x.title][0], axis = 1)\n",
    "        .astype(np.float32)\n",
    "        .rename('age')\n",
    "    )\n",
    "    \n",
    "def ischild(X):\n",
    "    na_filled = imputed_age(X)\n",
    "    def encode(x):\n",
    "        if 5< x < 18:\n",
    "            return 'child'\n",
    "        elif 60 > x >= 18:\n",
    "            return 'adult'\n",
    "        elif x >= 60:\n",
    "            return 'old'\n",
    "        \n",
    "    return(\n",
    "        na_filled\n",
    "        .apply(encode)\n",
    "        .rename('ischild')\n",
    "    )\n"
   ]
  },
  {
   "cell_type": "code",
   "execution_count": 47,
   "metadata": {},
   "outputs": [],
   "source": [
    "def family_size(X):\n",
    "    return(\n",
    "        (X.sibsp + X.parch +1)\n",
    "        .astype(np.uint8)\n",
    "        .rename('family_size')\n",
    "    )\n",
    "\n",
    "def fsize_encode(X):\n",
    "    def encode(x):\n",
    "        if x == 1:\n",
    "            return 'alone'\n",
    "        elif 1<x<5:\n",
    "            return 'small'\n",
    "        elif x>4:\n",
    "            return 'big'\n",
    "    return(\n",
    "        family_size(X)\n",
    "        .apply(encode)\n",
    "        .rename('fsize_encode')\n",
    "    )"
   ]
  },
  {
   "cell_type": "code",
   "execution_count": 48,
   "metadata": {},
   "outputs": [],
   "source": [
    "def port(X):\n",
    "    return(\n",
    "        X\n",
    "        .port\n",
    "        .fillna('S')\n",
    "        .rename('port')\n",
    "    )"
   ]
  },
  {
   "cell_type": "code",
   "execution_count": 221,
   "metadata": {},
   "outputs": [
    {
     "data": {
      "text/plain": [
       "1.0    730\n",
       "0.0    161\n",
       "Name: fare_encode, dtype: int64"
      ]
     },
     "execution_count": 221,
     "metadata": {},
     "output_type": "execute_result"
    }
   ],
   "source": [
    "def fare(X):\n",
    "    def func(x):\n",
    "        if len(x) == 4 and x[0] == '3':\n",
    "            return x\n",
    "    if X.fare.isnull().any():\n",
    "        median = traintest[traintest.ticket.apply(func).notnull()].fare.median()\n",
    "        traintest.fare.fillna(median)\n",
    "        return(\n",
    "            X\n",
    "            .fare\n",
    "            .fillna(median)\n",
    "        )\n",
    "    else: \n",
    "        return X.fare\n",
    "    \n",
    "def ticket_counts(X):\n",
    "    return(\n",
    "        X\n",
    "        .ticket\n",
    "        .map(traintest.ticket.value_counts())\n",
    "        .rename('ticket_counts')\n",
    "    )\n",
    "\n",
    "def fare_encode(X):\n",
    "    def encode(x):\n",
    "        if x < 50:\n",
    "            return 1\n",
    "        else: \n",
    "            return 0\n",
    "    return(\n",
    "        fare(X)\n",
    "        .apply(encode)\n",
    "        .astype(np.float32)\n",
    "        .rename('fare_encode')\n",
    "    )\n",
    "# fare_encode(X).value_counts()"
   ]
  },
  {
   "cell_type": "code",
   "execution_count": 214,
   "metadata": {},
   "outputs": [
    {
     "data": {
      "text/plain": [
       "0.0    23\n",
       "1.0    14\n",
       "Name: survived, dtype: int64"
      ]
     },
     "execution_count": 214,
     "metadata": {},
     "output_type": "execute_result"
    }
   ],
   "source": [
    "# traintest[(10<traintest.fare)& (traintest.fare<12)].survived.value_counts()"
   ]
  },
  {
   "cell_type": "code",
   "execution_count": 154,
   "metadata": {},
   "outputs": [],
   "source": [
    "def magic_f(X):\n",
    "    def encode(x):\n",
    "        if x.ticket_counts == 2:\n",
    "            return 1\n",
    "        else: \n",
    "            return 0\n",
    "    return(\n",
    "        pd.concat([family_size(X),ticket_counts(X)],axis = 1)\n",
    "        .apply(encode,axis = 1)\n",
    "        .rename('magic_f')\n",
    "    )"
   ]
  },
  {
   "cell_type": "code",
   "execution_count": 51,
   "metadata": {},
   "outputs": [],
   "source": [
    "def cabin_l(X):\n",
    "    return(\n",
    "        X\n",
    "        .cabin\n",
    "        .apply(lambda x: x==x and x[0].lower())\n",
    "        .rename('cabin_l')\n",
    "    )\n",
    "\n",
    "def cabin_n(X):\n",
    "    return(\n",
    "        X\n",
    "        .cabin\n",
    "        .str.lower()\n",
    "        .str.extract(r'(\\d+)', expand=False)\n",
    "        .astype(np.float32)\n",
    "        .rename('cabin_n')\n",
    "    )\n",
    "\n",
    "def deck_encode(X):\n",
    "    return (\n",
    "        cabin_l(X)\n",
    "        .map({\n",
    "            't': 8,\n",
    "            'a': 7,\n",
    "            'b': 6,\n",
    "            'c': 5,\n",
    "            'd': 4,\n",
    "            'e': 3,\n",
    "            'f': 2,\n",
    "            'g': 1,\n",
    "        })\n",
    "        .astype(np.float32)\n",
    "        .rename('deck_encode')\n",
    "    )\n",
    "\n",
    "def cabin_no_encode(X):\n",
    "    def encode(x):\n",
    "        if x.cabin_l == 't':\n",
    "            return 2\n",
    "        elif np.isnan(x.cabin_n):\n",
    "            return np.nan\n",
    "        elif x.cabin_l == 'a':\n",
    "            if x.cabin_n >= 35:\n",
    "                return 4\n",
    "            else:\n",
    "                return 2\n",
    "        elif x.cabin_l == 'b':\n",
    "            if x.cabin_n >= 51:\n",
    "                return 3\n",
    "            else:\n",
    "                return 2\n",
    "        elif x.cabin_l == 'c':\n",
    "            if x.cabin_n % 2 == 0:\n",
    "                if 92 <= x.cabin_n <= 102 or 142 <= x.cabin_n <= 148:\n",
    "                    return 4\n",
    "                elif 62 <= x.cabin_n <= 90 or 104 <= x.cabin_n <= 140:\n",
    "                    return 3\n",
    "                else:\n",
    "                    return 2\n",
    "            else:\n",
    "                if 85 <= x.cabin_n <= 93 or 123 <= x.cabin_n <= 127:\n",
    "                    return 4\n",
    "                elif 55 <= x.cabin_n <= 83 or 95 <= x.cabin_n <= 121:\n",
    "                    return 3\n",
    "                else:\n",
    "                    return 2\n",
    "        elif x.cabin_l == 'd':\n",
    "            if x.cabin_n >= 51:\n",
    "                return 5\n",
    "            else:\n",
    "                return 2\n",
    "        elif x.cabin_l == 'e':\n",
    "            if x.cabin_n >= 91:\n",
    "                return 5\n",
    "            elif x.cabin_n >= 70:\n",
    "                return 4\n",
    "            elif x.cabin_n >= 26:\n",
    "                return 3\n",
    "            else:\n",
    "                return 2\n",
    "        elif x.cabin_l == 'f':\n",
    "            if x.cabin_n >= 46:\n",
    "                return 1\n",
    "            elif x.cabin_n >= 20:\n",
    "                return 5\n",
    "            else:\n",
    "                return 4\n",
    "        elif x.cabin_l == 'g':\n",
    "            return 5\n",
    "    \n",
    "    df = pd.concat([X.cabin, cabin_l(X), cabin_n(X)], axis=1)\n",
    "    return (\n",
    "        df\n",
    "        .apply(encode, axis=1)\n",
    "        .astype(np.float32)\n",
    "        .rename('cabin_no_encode')\n",
    "    )"
   ]
  },
  {
   "cell_type": "code",
   "execution_count": 52,
   "metadata": {},
   "outputs": [],
   "source": [
    "class DataFrameUnion(BaseEstimator,TransformerMixin):\n",
    "    def __init__(self, trf_list):\n",
    "        self.trf_list = trf_list\n",
    "\n",
    "    def fit(self, X, y=None):\n",
    "        for t in self.trf_list:\n",
    "            t.fit(X, y)\n",
    "        return self\n",
    "\n",
    "    def transform(self, X):\n",
    "        return pd.concat([t.transform(X) for t in self.trf_list], axis=1)\n",
    "    \n",
    "    \n",
    "class ColumnSelector(BaseEstimator,TransformerMixin):\n",
    "    def __init__(self, key):\n",
    "        self.key = key\n",
    "\n",
    "    def fit(self, X, y=None):\n",
    "        return self\n",
    "\n",
    "    def transform(self, X):\n",
    "        return X[self.key]\n",
    "    \n",
    "    \n",
    "class FeatureTransformer(BaseEstimator,TransformerMixin):\n",
    "    def __init__(self, func):\n",
    "        self.func = func\n",
    "    \n",
    "    def fit(self, X, y=None):\n",
    "        return self\n",
    "    \n",
    "    def transform(self, X):\n",
    "        return self.func(X)\n",
    "    \n",
    "class DropColumns(BaseEstimator,TransformerMixin):\n",
    "    def __init__(self,keys):\n",
    "        self.keys = keys\n",
    "        pass\n",
    "    \n",
    "    def fit(self, X, y=None):\n",
    "        return self\n",
    "    \n",
    "    def transform(self, X):\n",
    "        return X.drop(self.keys,axis = 1)\n",
    "    \n",
    "class GetDummies(BaseEstimator,TransformerMixin):\n",
    "    def __init__(self, drop_first=False):\n",
    "        self.drop = drop_first\n",
    "\n",
    "    def fit(self, X, y=None):\n",
    "        self.name = X.name\n",
    "        self.cat = pd.Categorical(X.unique())\n",
    "        return self\n",
    "\n",
    "    def transform(self, X):\n",
    "        return pd.get_dummies(X.astype(self.cat), prefix=self.name, drop_first=self.drop)\n",
    "\n",
    "class DropNa(BaseEstimator,TransformerMixin):\n",
    "    def __init__(self):\n",
    "        pass\n",
    "    \n",
    "    def fit(self, X, y=None):\n",
    "        return self\n",
    "    \n",
    "    def transform(self, X):\n",
    "        return X.dropna()\n",
    "    \n",
    "class Scaling(BaseEstimator, TransformerMixin):\n",
    "    def __init__(self):\n",
    "        pass\n",
    "        \n",
    "    def fit(self, X, y):\n",
    "        self.mean = X.mean()\n",
    "        self.var = X.std()\n",
    "        return self\n",
    "        \n",
    "    def transform(self, X):\n",
    "        return X.apply(lambda x: (x-self.mean)/self.var)"
   ]
  },
  {
   "cell_type": "code",
   "execution_count": 75,
   "metadata": {},
   "outputs": [],
   "source": [
    "def rf_importance(forest):\n",
    "    feat_labels = rf_features.fit_transform(X,y).columns[1:]\n",
    "    print(\"Features sorted by their score:\")\n",
    "    importances = forest.feature_importances_\n",
    "    indices = np.argsort(importances)[::-1]\n",
    "    for f in range(feat_labels.shape[0]):\n",
    "        print(\"%2d) %-*s %f\" % (f + 1, 30, feat_labels[f], importances[indices[f]]))\n",
    "        \n",
    "def xgb_importance(model):\n",
    "    fig,ax = plt.subplots(figsize=(15,15))\n",
    "    xgb.plot_importance(\n",
    "        model,\n",
    "        height=0.5,\n",
    "        ax=ax,\n",
    "        max_num_features=64\n",
    "    )\n",
    "    plt.show()\n",
    "def lgb_importance(model):\n",
    "    fig,ax = plt.subplots(figsize=(15,15))\n",
    "    lgb.plot_importance(\n",
    "        model,\n",
    "        height=0.5,\n",
    "        ax=ax,\n",
    "        max_num_features=64\n",
    "    )\n",
    "    plt.show()\n",
    "    \n",
    "def validate(pipeline,rf_clf = None, xgb_clf = None, lgb_clf = None):\n",
    "    pipeline.fit(X_train,y_train)\n",
    "    metric = cross_val_score(pipeline,X_train,y_train,cv=20,scoring=\"roc_auc\").mean()\n",
    "    print(metric)\n",
    "    result = pipeline.predict(X_test)\n",
    "    print(classification_report(y_true = y_test, y_pred = result))\n",
    "    print(confusion_matrix(y_true = y_test, y_pred = result))\n",
    "    if rf_clf != None:\n",
    "        rf_importance(rf_clf)\n",
    "    if xgb_clf != None:\n",
    "        xgb_importance(xgb_clf)\n",
    "    if lgb_clf != None:\n",
    "        lgb_importance(lgb_clf)\n",
    "    return result\n"
   ]
  },
  {
   "cell_type": "code",
   "execution_count": 239,
   "metadata": {},
   "outputs": [],
   "source": [
    "rf_features = DataFrameUnion([\n",
    "    make_pipeline(ColumnSelector('pclass'),GetDummies()),\n",
    "    make_pipeline(FeatureTransformer(title),GetDummies()),\n",
    "    make_pipeline(ColumnSelector('sex'),GetDummies()),\n",
    "    FeatureTransformer(fare_encode),\n",
    "    make_pipeline(FeatureTransformer(fsize_encode),GetDummies()),\n",
    "#     FeatureTransformer(magic_f),\n",
    "#     FeatureTransformer(ticket_counts),\n",
    "#     FeatureTransformer(imputed_age),\n",
    "    make_pipeline(FeatureTransformer(ischild),GetDummies()),\n",
    "    make_pipeline(FeatureTransformer(port),GetDummies()),\n",
    "])"
   ]
  },
  {
   "cell_type": "code",
   "execution_count": 240,
   "metadata": {},
   "outputs": [],
   "source": [
    "# rf_features.fit_transform(X_train,y_train).isnull().any()"
   ]
  },
  {
   "cell_type": "code",
   "execution_count": 241,
   "metadata": {},
   "outputs": [],
   "source": [
    "def rf_pipeline(clf,features):\n",
    "    pipeline = Pipeline([\n",
    "        ('features',features),\n",
    "#         ('drop',DropColumns(['fsize_encode_alone'])),\n",
    "        ('rf',clf)\n",
    "    ])\n",
    "    return pipeline\n",
    "\n",
    "def rf_model(argsDict):\n",
    "    max_features = argsDict[\"max_features\"]\n",
    "    n_estimators  = argsDict[\"n_estimators\"] + 1\n",
    "    min_samples_leaf = argsDict[\"min_samples_leaf\"] + 1\n",
    "    clf_rf = RandomForestClassifier(\n",
    "        n_estimators = n_estimators,    \n",
    "        max_features = max_features,  \n",
    "        min_samples_leaf = min_samples_leaf, \n",
    "        n_jobs = -1\n",
    "    )\n",
    "    return clf_rf\n",
    "\n",
    "def obj_rf(argsDict):\n",
    "    clf_rf = rf_model(argsDict)\n",
    "        \n",
    "    pipeline = rf_pipeline(clf_rf,rf_features)\n",
    "\n",
    "    global X_train, y_train\n",
    "    \n",
    "    metric = cross_val_score(pipeline,X_train,y_train,cv=3,scoring=\"roc_auc\").mean()\n",
    "#     print(metric)\n",
    "    return -metric\n",
    "\n"
   ]
  },
  {
   "cell_type": "code",
   "execution_count": 306,
   "metadata": {},
   "outputs": [
    {
     "name": "stdout",
     "output_type": "stream",
     "text": [
      "{'max_features': 0.4428957036591505, 'min_samples_leaf': 5, 'n_estimators': 17}\n"
     ]
    }
   ],
   "source": [
    "rf_space = {\n",
    "    \"n_estimators\": hp.randint(\"n_estimators\",120),\n",
    "    \"max_features\": hp.uniform(\"max_features\",0.2,0.8),\n",
    "    \"min_samples_leaf\": hp.randint(\"min_samples_leaf\",10),  #[0,1,2,3,4,5] -> 0.05,0.06\n",
    "}\n",
    "\n",
    "rf_best = fmin(obj_rf,rf_space,algo=tpe.suggest,max_evals=30)\n",
    "\n",
    "print(rf_best)"
   ]
  },
  {
   "cell_type": "code",
   "execution_count": 307,
   "metadata": {},
   "outputs": [
    {
     "name": "stdout",
     "output_type": "stream",
     "text": [
      "0.8627260458839408\n",
      "             precision    recall  f1-score   support\n",
      "\n",
      "          0       0.84      0.89      0.86       168\n",
      "          1       0.79      0.71      0.75       100\n",
      "\n",
      "avg / total       0.82      0.82      0.82       268\n",
      "\n",
      "[[149  19]\n",
      " [ 29  71]]\n",
      "Features sorted by their score:\n",
      " 1) pclass_2                       0.287870\n",
      " 2) pclass_3                       0.208161\n",
      " 3) title_master                   0.090187\n",
      " 4) title_miss                     0.082913\n",
      " 5) title_mr                       0.056891\n",
      " 6) title_mrs                      0.055056\n",
      " 7) title_officer                  0.044070\n",
      " 8) title_royalty                  0.039003\n",
      " 9) sex_female                     0.021739\n",
      "10) sex_male                       0.019164\n",
      "11) fare_encode                    0.016420\n",
      "12) fsize_encode_alone             0.015101\n",
      "13) fsize_encode_big               0.014680\n",
      "14) fsize_encode_small             0.012902\n",
      "15) ischild_adult                  0.012601\n",
      "16) ischild_child                  0.010298\n",
      "17) ischild_old                    0.006851\n",
      "18) port_C                         0.005689\n",
      "19) port_Q                         0.000405\n",
      "20) port_S                         0.000000\n"
     ]
    }
   ],
   "source": [
    "final_rf = rf_model(rf_best)\n",
    "\n",
    "rf_pip = rf_pipeline(final_rf,rf_features)\n",
    "rf_result = validate(rf_pip, rf_clf = final_rf)"
   ]
  },
  {
   "cell_type": "code",
   "execution_count": 294,
   "metadata": {},
   "outputs": [],
   "source": [
    "xgb_features = DataFrameUnion([\n",
    "    make_pipeline(ColumnSelector('pclass'),Scaling()),\n",
    "    make_pipeline(FeatureTransformer(title),GetDummies()),\n",
    "    make_pipeline(ColumnSelector('sex'),GetDummies()),\n",
    "    make_pipeline(FeatureTransformer(fare),Scaling()),\n",
    "#     FeatureTransformer(fare_avg),\n",
    "#     FeatureTransformer(family_size),\n",
    "    make_pipeline(FeatureTransformer(fsize_encode),GetDummies()),\n",
    "#     FeatureTransformer(magic_f),\n",
    "#     make_pipeline(FeatureTransformer(ticket_counts),Scaling()),\n",
    "#     FeatureTransformer(imputed_age),\n",
    "    make_pipeline(FeatureTransformer(ischild),GetDummies()),\n",
    "    make_pipeline(FeatureTransformer(port),GetDummies()),\n",
    "#     make_pipeline(FeatureTransformer(deck_encode),Scaling()),\n",
    "#     make_pipeline(FeatureTransformer(cabin_no_encode),Scaling())\n",
    "])"
   ]
  },
  {
   "cell_type": "code",
   "execution_count": 295,
   "metadata": {},
   "outputs": [],
   "source": [
    "def xgb_pipeline(clf,features):\n",
    "    pip = Pipeline([\n",
    "            ('features',features),\n",
    "#             ('drop',DropColumns(['sex_male','fsize_encode_alone'])),\n",
    "            ('xgb',clf)\n",
    "         ])\n",
    "    return pip\n",
    "\n",
    "def xgb_model(argsDict):\n",
    "    max_depth = argsDict[\"max_depth\"] + 1\n",
    "    gamma = argsDict[\"gamma\"]\n",
    "    learning_rate = argsDict[\"learning_rate\"]\n",
    "    subsample = argsDict[\"subsample\"]\n",
    "    min_child_weight = argsDict[\"min_child_weight\"]\n",
    "    clf_xgb = xgb.XGBClassifier(\n",
    "        nthread=4,    #进程数\n",
    "        max_depth=max_depth,  #最大深度\n",
    "        gamma =gamma,\n",
    "        learning_rate=learning_rate, #学习率\n",
    "        subsample=subsample,      #采样数\n",
    "        min_child_weight=min_child_weight,   #孩子数\n",
    "        objective=\"binary:logistic\",\n",
    "        eval_metric = 'auc',\n",
    "        \n",
    "    )\n",
    "    return clf_xgb\n",
    "\n",
    "def obj_xgb(argsDict):\n",
    "    clf_xgb = xgb_model(argsDict)\n",
    "    pipeline = xgb_pipeline(clf_xgb,xgb_features)\n",
    "    \n",
    "    global X_train, y_train\n",
    "    \n",
    "#     print(clf_xgb)\n",
    "    metric = cross_val_score(pipeline,X_train,y_train,cv=3,scoring=\"roc_auc\").mean()\n",
    "#     print(metric)\n",
    "    \n",
    "    return -metric\n"
   ]
  },
  {
   "cell_type": "code",
   "execution_count": 304,
   "metadata": {},
   "outputs": [
    {
     "name": "stdout",
     "output_type": "stream",
     "text": [
      "{'gamma': 0.2388835951040101, 'learning_rate': 0.1388791043288561, 'max_depth': 3, 'min_child_weight': 7.842579463823115, 'subsample': 0.7716354761897558}\n"
     ]
    }
   ],
   "source": [
    "xgb_space = {\n",
    "    \"max_depth\": hp.randint(\"max_depth\",8),\n",
    "    \"gamma\": hp.uniform(\"gamma\",0.001,0.999),\n",
    "    \"learning_rate\": hp.uniform(\"learning_rate\",0.005,0.2),  #[0,1,2,3,4,5] -> 0.05,0.06\n",
    "    \"subsample\": hp.uniform(\"subsample\",0.4,0.8),#[0,1,2,3] -> [0.7,0.8,0.9,1.0]\n",
    "    \"min_child_weight\": hp.uniform(\"min_child_weight\",5,14), #\n",
    "}\n",
    "\n",
    "xgb_best = fmin(obj_xgb,xgb_space,algo=tpe.suggest,max_evals=30)\n",
    "\n",
    "print(xgb_best)"
   ]
  },
  {
   "cell_type": "code",
   "execution_count": 305,
   "metadata": {},
   "outputs": [
    {
     "name": "stdout",
     "output_type": "stream",
     "text": [
      "0.8701501349527664\n",
      "             precision    recall  f1-score   support\n",
      "\n",
      "          0       0.86      0.86      0.86       168\n",
      "          1       0.76      0.76      0.76       100\n",
      "\n",
      "avg / total       0.82      0.82      0.82       268\n",
      "\n",
      "[[144  24]\n",
      " [ 24  76]]\n"
     ]
    },
    {
     "name": "stderr",
     "output_type": "stream",
     "text": [
      "C:\\Users\\Shang\\Anaconda3\\lib\\site-packages\\sklearn\\preprocessing\\label.py:151: DeprecationWarning: The truth value of an empty array is ambiguous. Returning False, but in future this will result in an error. Use `array.size > 0` to check that an array is not empty.\n",
      "  if diff:\n"
     ]
    },
    {
     "data": {
      "image/png": "[encoded data removed]",
      "text/plain": [
       "<matplotlib.figure.Figure at 0x165fe5094a8>"
      ]
     },
     "metadata": {},
     "output_type": "display_data"
    }
   ],
   "source": [
    "final_xgb = xgb_model(xgb_best)\n",
    "xgb_pip = xgb_pipeline(final_xgb,xgb_features)\n",
    "xgb_result = validate(xgb_pip,xgb_clf = final_xgb)"
   ]
  },
  {
   "cell_type": "code",
   "execution_count": 293,
   "metadata": {},
   "outputs": [],
   "source": [
    "knn_features = DataFrameUnion([\n",
    "    make_pipeline(ColumnSelector('pclass'),Scaling()),\n",
    "    make_pipeline(FeatureTransformer(title),GetDummies()),\n",
    "    make_pipeline(ColumnSelector('sex'),GetDummies()),\n",
    "    make_pipeline(FeatureTransformer(fare),Scaling()),\n",
    "    make_pipeline(FeatureTransformer(family_size),Scaling()),\n",
    "#     make_pipeline(FeatureTransformer(fsize_encode),GetDummies()),\n",
    "#     FeatureTransformer(magic_f),\n",
    "#     make_pipeline(FeatureTransformer(ticket_counts),Scaling()),\n",
    "#     make_pipeline(FeatureTransformer(imputed_age),Scaling()),\n",
    "    make_pipeline(FeatureTransformer(ischild),GetDummies()),\n",
    "    make_pipeline(FeatureTransformer(port),GetDummies()),\n",
    "    \n",
    "#     make_pipeline(FeatureTransformer(deck_encode),Scaling(),Fillna()),\n",
    "#     make_pipeline(FeatureTransformer(cabin_no_encode),Scaling(),Fillna()),\n",
    "])"
   ]
  },
  {
   "cell_type": "code",
   "execution_count": 278,
   "metadata": {},
   "outputs": [
    {
     "name": "stdout",
     "output_type": "stream",
     "text": [
      "Fitting 5 folds for each of 6 candidates, totalling 30 fits\n",
      "[CV] knn__n_neighbors=15, knn__weights=uniform .......................\n",
      "[CV]  knn__n_neighbors=15, knn__weights=uniform, score=0.8567452955208057, total=   0.0s\n",
      "[CV] knn__n_neighbors=15, knn__weights=uniform .......................\n"
     ]
    },
    {
     "name": "stderr",
     "output_type": "stream",
     "text": [
      "[Parallel(n_jobs=1)]: Done   1 out of   1 | elapsed:    0.1s remaining:    0.0s\n",
      "[Parallel(n_jobs=1)]: Done   2 out of   2 | elapsed:    0.2s remaining:    0.0s\n"
     ]
    },
    {
     "name": "stdout",
     "output_type": "stream",
     "text": [
      "[CV]  knn__n_neighbors=15, knn__weights=uniform, score=0.8736573576799139, total=   0.0s\n",
      "[CV] knn__n_neighbors=15, knn__weights=uniform .......................\n",
      "[CV]  knn__n_neighbors=15, knn__weights=uniform, score=0.8249725877192982, total=   0.0s\n",
      "[CV] knn__n_neighbors=15, knn__weights=uniform .......................\n"
     ]
    },
    {
     "name": "stderr",
     "output_type": "stream",
     "text": [
      "[Parallel(n_jobs=1)]: Done   3 out of   3 | elapsed:    0.4s remaining:    0.0s\n",
      "[Parallel(n_jobs=1)]: Done   4 out of   4 | elapsed:    0.5s remaining:    0.0s\n"
     ]
    },
    {
     "name": "stdout",
     "output_type": "stream",
     "text": [
      "[CV]  knn__n_neighbors=15, knn__weights=uniform, score=0.8444353070175439, total=   0.0s\n",
      "[CV] knn__n_neighbors=15, knn__weights=uniform .......................\n",
      "[CV]  knn__n_neighbors=15, knn__weights=uniform, score=0.8952850877192982, total=   0.0s\n",
      "[CV] knn__n_neighbors=15, knn__weights=distance ......................\n"
     ]
    },
    {
     "name": "stderr",
     "output_type": "stream",
     "text": [
      "[Parallel(n_jobs=1)]: Done   5 out of   5 | elapsed:    0.7s remaining:    0.0s\n",
      "[Parallel(n_jobs=1)]: Done   6 out of   6 | elapsed:    0.8s remaining:    0.0s\n"
     ]
    },
    {
     "name": "stdout",
     "output_type": "stream",
     "text": [
      "[CV]  knn__n_neighbors=15, knn__weights=distance, score=0.8344818446859262, total=   0.0s\n",
      "[CV] knn__n_neighbors=15, knn__weights=distance ......................\n",
      "[CV]  knn__n_neighbors=15, knn__weights=distance, score=0.8376745435016112, total=   0.0s\n",
      "[CV] knn__n_neighbors=15, knn__weights=distance ......................\n"
     ]
    },
    {
     "name": "stderr",
     "output_type": "stream",
     "text": [
      "[Parallel(n_jobs=1)]: Done   7 out of   7 | elapsed:    1.0s remaining:    0.0s\n",
      "[Parallel(n_jobs=1)]: Done   8 out of   8 | elapsed:    1.2s remaining:    0.0s\n"
     ]
    },
    {
     "name": "stdout",
     "output_type": "stream",
     "text": [
      "[CV]  knn__n_neighbors=15, knn__weights=distance, score=0.8410087719298246, total=   0.0s\n",
      "[CV] knn__n_neighbors=15, knn__weights=distance ......................\n",
      "[CV]  knn__n_neighbors=15, knn__weights=distance, score=0.7811129385964912, total=   0.0s\n",
      "[CV] knn__n_neighbors=15, knn__weights=distance ......................\n"
     ]
    },
    {
     "name": "stderr",
     "output_type": "stream",
     "text": [
      "[Parallel(n_jobs=1)]: Done   9 out of   9 | elapsed:    1.3s remaining:    0.0s\n"
     ]
    },
    {
     "name": "stdout",
     "output_type": "stream",
     "text": [
      "[CV]  knn__n_neighbors=15, knn__weights=distance, score=0.8252467105263159, total=   0.0s\n",
      "[CV] knn__n_neighbors=20, knn__weights=uniform .......................\n",
      "[CV]  knn__n_neighbors=20, knn__weights=uniform, score=0.836734693877551, total=   0.0s\n",
      "[CV] knn__n_neighbors=20, knn__weights=uniform .......................\n",
      "[CV]  knn__n_neighbors=20, knn__weights=uniform, score=0.8623791621911924, total=   0.0s\n",
      "[CV] knn__n_neighbors=20, knn__weights=uniform .......................\n",
      "[CV]  knn__n_neighbors=20, knn__weights=uniform, score=0.834703947368421, total=   0.0s\n",
      "[CV] knn__n_neighbors=20, knn__weights=uniform .......................\n",
      "[CV]  knn__n_neighbors=20, knn__weights=uniform, score=0.8395010964912281, total=   0.0s\n",
      "[CV] knn__n_neighbors=20, knn__weights=uniform .......................\n",
      "[CV]  knn__n_neighbors=20, knn__weights=uniform, score=0.8884320175438596, total=   0.0s\n",
      "[CV] knn__n_neighbors=20, knn__weights=distance ......................\n",
      "[CV]  knn__n_neighbors=20, knn__weights=distance, score=0.8323615160349854, total=   0.0s\n",
      "[CV] knn__n_neighbors=20, knn__weights=distance ......................\n",
      "[CV]  knn__n_neighbors=20, knn__weights=distance, score=0.8323039742212675, total=   0.0s\n",
      "[CV] knn__n_neighbors=20, knn__weights=distance ......................\n",
      "[CV]  knn__n_neighbors=20, knn__weights=distance, score=0.8422423245614035, total=   0.0s\n",
      "[CV] knn__n_neighbors=20, knn__weights=distance ......................\n",
      "[CV]  knn__n_neighbors=20, knn__weights=distance, score=0.7772752192982455, total=   0.0s\n",
      "[CV] knn__n_neighbors=20, knn__weights=distance ......................\n",
      "[CV]  knn__n_neighbors=20, knn__weights=distance, score=0.826891447368421, total=   0.0s\n",
      "[CV] knn__n_neighbors=25, knn__weights=uniform .......................\n",
      "[CV]  knn__n_neighbors=25, knn__weights=uniform, score=0.8241452425125895, total=   0.0s\n",
      "[CV] knn__n_neighbors=25, knn__weights=uniform .......................\n",
      "[CV]  knn__n_neighbors=25, knn__weights=uniform, score=0.8559344790547798, total=   0.0s\n",
      "[CV] knn__n_neighbors=25, knn__weights=uniform .......................\n",
      "[CV]  knn__n_neighbors=25, knn__weights=uniform, score=0.8292214912280701, total=   0.0s\n",
      "[CV] knn__n_neighbors=25, knn__weights=uniform .......................\n",
      "[CV]  knn__n_neighbors=25, knn__weights=uniform, score=0.8508771929824561, total=   0.0s\n",
      "[CV] knn__n_neighbors=25, knn__weights=uniform .......................\n",
      "[CV]  knn__n_neighbors=25, knn__weights=uniform, score=0.894325657894737, total=   0.0s\n",
      "[CV] knn__n_neighbors=25, knn__weights=distance ......................\n",
      "[CV]  knn__n_neighbors=25, knn__weights=distance, score=0.8301086668433607, total=   0.0s\n",
      "[CV] knn__n_neighbors=25, knn__weights=distance ......................\n",
      "[CV]  knn__n_neighbors=25, knn__weights=distance, score=0.8298872180451129, total=   0.0s\n",
      "[CV] knn__n_neighbors=25, knn__weights=distance ......................\n",
      "[CV]  knn__n_neighbors=25, knn__weights=distance, score=0.8364857456140351, total=   0.0s\n",
      "[CV] knn__n_neighbors=25, knn__weights=distance ......................\n",
      "[CV]  knn__n_neighbors=25, knn__weights=distance, score=0.7753563596491226, total=   0.0s\n",
      "[CV] knn__n_neighbors=25, knn__weights=distance ......................\n",
      "[CV]  knn__n_neighbors=25, knn__weights=distance, score=0.832236842105263, total=   0.0s\n"
     ]
    },
    {
     "name": "stderr",
     "output_type": "stream",
     "text": [
      "[Parallel(n_jobs=1)]: Done  30 out of  30 | elapsed:    4.6s finished\n"
     ]
    }
   ],
   "source": [
    "pipeline_knn = Pipeline([\n",
    "    ('features',knn_features),\n",
    "#     ('pca',PCA(n_components = 13)),\n",
    "    ('knn',KNeighborsClassifier())\n",
    "])\n",
    "param_grid = dict(\n",
    "    knn__n_neighbors = [15,20,25],\n",
    "    knn__weights = ['uniform','distance']\n",
    ")\n",
    "grid_search = GridSearchCV(pipeline_knn, param_grid=param_grid, verbose=10, scoring='roc_auc',cv=5)\n",
    "grid_search.fit(X_train, y_train)\n",
    "final_knn = grid_search.best_estimator_"
   ]
  },
  {
   "cell_type": "code",
   "execution_count": 279,
   "metadata": {},
   "outputs": [
    {
     "name": "stdout",
     "output_type": "stream",
     "text": [
      "Pipeline(memory=None,\n",
      "     steps=[('features', DataFrameUnion(trf_list=[Pipeline(memory=None,\n",
      "     steps=[('columnselector', ColumnSelector(key='pclass')), ('scaling', Scaling())]), Pipeline(memory=None,\n",
      "     steps=[('featuretransformer', FeatureTransformer(func=<function title at 0x00000165FA4BCF28>)), ('getdummies', GetDumm...wski',\n",
      "           metric_params=None, n_jobs=1, n_neighbors=15, p=2,\n",
      "           weights='uniform'))])\n",
      "0.8590353238686551\n",
      "0.8579942645074224\n",
      "             precision    recall  f1-score   support\n",
      "\n",
      "          0       0.84      0.89      0.86       168\n",
      "          1       0.79      0.72      0.75       100\n",
      "\n",
      "avg / total       0.82      0.82      0.82       268\n",
      "\n",
      "[[149  19]\n",
      " [ 28  72]]\n"
     ]
    }
   ],
   "source": [
    "print(final_knn)\n",
    "print(grid_search.best_score_ ) \n",
    "knn_pip = Pipeline([\n",
    "    ('features',knn_features),\n",
    "#     ('pca',PCA(n_components = 13)),\n",
    "    ('knn',final_knn)\n",
    "])\n",
    "knn_result = validate(pipeline_knn)"
   ]
  },
  {
   "cell_type": "code",
   "execution_count": 280,
   "metadata": {},
   "outputs": [],
   "source": [
    "logistic_features = DataFrameUnion([\n",
    "    make_pipeline(ColumnSelector('pclass'),Scaling()),\n",
    "    make_pipeline(FeatureTransformer(title),GetDummies()),\n",
    "    make_pipeline(ColumnSelector('sex'),GetDummies()),\n",
    "    FeatureTransformer(fare_encode),\n",
    "#     FeatureTransformer(family_size),\n",
    "    make_pipeline(FeatureTransformer(fsize_encode),GetDummies()),\n",
    "    FeatureTransformer(magic_f),\n",
    "#     make_pipeline(FeatureTransformer(ticket_counts),Scaling()),\n",
    "#     make_pipeline(FeatureTransformer(imputed_age),Scaling()),\n",
    "    make_pipeline(FeatureTransformer(ischild),GetDummies()),\n",
    "    make_pipeline(FeatureTransformer(port),GetDummies()),\n",
    "    \n",
    "#     make_pipeline(FeatureTransformer(deck_encode),Scaling(),Fillna()),\n",
    "#     make_pipeline(FeatureTransformer(cabin_no_encode),Scaling(),Fillna()),\n",
    "])"
   ]
  },
  {
   "cell_type": "code",
   "execution_count": 281,
   "metadata": {},
   "outputs": [
    {
     "name": "stdout",
     "output_type": "stream",
     "text": [
      "0.8664608636977059\n",
      "             precision    recall  f1-score   support\n",
      "\n",
      "          0       0.87      0.86      0.86       168\n",
      "          1       0.76      0.78      0.77       100\n",
      "\n",
      "avg / total       0.83      0.83      0.83       268\n",
      "\n",
      "[[144  24]\n",
      " [ 22  78]]\n"
     ]
    }
   ],
   "source": [
    "clf_logistic = LogisticRegression(solver = 'liblinear')\n",
    "pipeline_logistic = Pipeline([\n",
    "    ('features',logistic_features),\n",
    "#     ('pca',PCA(n_components = 13)),\n",
    "#     ('drop',DropColumns('fsize_encode_alone')),\n",
    "    ('logistic',clf_logistic)\n",
    "])\n",
    "logistic_result = validate(pipeline_logistic)"
   ]
  },
  {
   "cell_type": "code",
   "execution_count": 282,
   "metadata": {},
   "outputs": [],
   "source": [
    "def lgb_pipeline(clf,features):\n",
    "    pip = Pipeline([\n",
    "            ('features',features),\n",
    "            ('lgb',clf)\n",
    "         ])\n",
    "    return pip\n",
    "\n",
    "def lgb_model(argsDict):\n",
    "    num_leaves = argsDict[\"num_leaves\"]*10 + 2\n",
    "    max_depth = argsDict[\"num_leaves\"] + 2\n",
    "    min_data_in_leaf = (argsDict[\"min_data_in_leaf\"] + 5)*10\n",
    "    bagging_fraction = argsDict[\"bagging_fraction\"]\n",
    "    bagging_freq = argsDict[\"bagging_freq\"] + 2\n",
    "    feature_fraction = argsDict[\"feature_fraction\"]\n",
    "    learning_rate = argsDict[\"learning_rate\"]\n",
    "    clf_lgb = lgb.LGBMClassifier(\n",
    "        num_leaves = num_leaves,\n",
    "        max_depth = max_depth,\n",
    "        min_data_in_leaf = min_data_in_leaf,\n",
    "        bagging_fraction = bagging_fraction,\n",
    "        bagging_freq = bagging_freq,\n",
    "        feature_fraction = feature_fraction,\n",
    "        eval_metric = 'auc',\n",
    "    )\n",
    "    return clf_lgb\n",
    "\n",
    "def obj_lgb(argsDict):\n",
    "    clf_lgb = lgb_model(argsDict)\n",
    "    pipeline = lgb_pipeline(clf_lgb,xgb_features)\n",
    "    \n",
    "    global X_train, y_train\n",
    "    \n",
    "#     print(clf_xgb)\n",
    "    metric = cross_val_score(pipeline,X_train,y_train,cv=3,scoring=\"roc_auc\").mean()\n",
    "    print(metric)\n",
    "    \n",
    "    return -metric\n"
   ]
  },
  {
   "cell_type": "code",
   "execution_count": 284,
   "metadata": {},
   "outputs": [
    {
     "name": "stdout",
     "output_type": "stream",
     "text": [
      "0.6064310537571692\n",
      "0.820673341758206\n",
      "0.8421768170182431\n",
      "0.8190657302096497\n",
      "0.5\n",
      "0.6064310537571692\n",
      "0.5\n",
      "0.5\n",
      "0.8344773743559832\n",
      "0.6064310537571692\n",
      "0.8555646689997083\n",
      "0.5\n",
      "0.8584761106250607\n",
      "0.8506304478143935\n",
      "0.6779041508700301\n",
      "0.5\n",
      "0.8563510579696056\n",
      "0.5\n",
      "0.8230586338744694\n",
      "0.8509184326496225\n",
      "0.8555709471501247\n",
      "0.8456455963837852\n",
      "0.8589651987945951\n",
      "0.8581506594083147\n",
      "0.8539969540844431\n",
      "0.8545000162016785\n",
      "0.8417665095103852\n",
      "0.5\n",
      "0.8365139253426656\n",
      "0.8594684634328117\n",
      "{'bagging_fraction': 0.6600084080120241, 'bagging_freq': 4, 'feature_fraction': 0.3134129029522275, 'learning_rate': 0.13200464587728147, 'max_depth': 9, 'min_data_in_leaf': 0, 'num_leaves': 1}\n"
     ]
    }
   ],
   "source": [
    "lgb_space = {\n",
    "    \"num_leaves\": hp.randint(\"num_leaves\",10),\n",
    "    'max_depth': hp.randint(\"max_depth\",10),\n",
    "    \"min_data_in_leaf\": hp.randint(\"min_data_in_leaf\",10),\n",
    "    \"bagging_fraction\": hp.uniform(\"bagging_fraction\",0.2,0.8), \n",
    "    \"bagging_freq\": hp.randint(\"bagging_freq\",15),\n",
    "    \"feature_fraction\": hp.uniform(\"feature_fraction\",0.2,0.8),\n",
    "    \"learning_rate\": hp.uniform(\"learning_rate\",0.005,0.2),  #[0,1,2,3,4,5] -> 0.05,0.06\n",
    "}\n",
    "\n",
    "lgb_best = fmin(obj_lgb,lgb_space,algo=tpe.suggest,max_evals=30)\n",
    "\n",
    "print(lgb_best)"
   ]
  },
  {
   "cell_type": "code",
   "execution_count": 285,
   "metadata": {},
   "outputs": [
    {
     "name": "stdout",
     "output_type": "stream",
     "text": [
      "0.8604031713900134\n",
      "             precision    recall  f1-score   support\n",
      "\n",
      "          0       0.85      0.84      0.84       168\n",
      "          1       0.74      0.75      0.74       100\n",
      "\n",
      "avg / total       0.81      0.81      0.81       268\n",
      "\n",
      "[[141  27]\n",
      " [ 25  75]]\n"
     ]
    },
    {
     "name": "stderr",
     "output_type": "stream",
     "text": [
      "C:\\Users\\Shang\\Anaconda3\\lib\\site-packages\\sklearn\\preprocessing\\label.py:151: DeprecationWarning: The truth value of an empty array is ambiguous. Returning False, but in future this will result in an error. Use `array.size > 0` to check that an array is not empty.\n",
      "  if diff:\n"
     ]
    },
    {
     "data": {
      "image/png": "[encoded data removed]",
      "text/plain": [
       "<matplotlib.figure.Figure at 0x165f9b1e940>"
      ]
     },
     "metadata": {},
     "output_type": "display_data"
    }
   ],
   "source": [
    "final_lgb = lgb_model(lgb_best)\n",
    "\n",
    "lgb_pip = lgb_pipeline(final_lgb,xgb_features)\n",
    "lgb_result = validate(lgb_pip, lgb_clf = final_lgb)"
   ]
  },
  {
   "cell_type": "code",
   "execution_count": 308,
   "metadata": {},
   "outputs": [
    {
     "name": "stderr",
     "output_type": "stream",
     "text": [
      "C:\\Users\\Shang\\Anaconda3\\lib\\site-packages\\sklearn\\preprocessing\\label.py:151: DeprecationWarning: The truth value of an empty array is ambiguous. Returning False, but in future this will result in an error. Use `array.size > 0` to check that an array is not empty.\n",
      "  if diff:\n",
      "C:\\Users\\Shang\\Anaconda3\\lib\\site-packages\\sklearn\\preprocessing\\label.py:151: DeprecationWarning: The truth value of an empty array is ambiguous. Returning False, but in future this will result in an error. Use `array.size > 0` to check that an array is not empty.\n",
      "  if diff:\n"
     ]
    }
   ],
   "source": [
    "xgb_pip.fit(X,y)\n",
    "submit1 = xgb_pip.predict(test)\n",
    "\n",
    "rf_pip.fit(X,y)\n",
    "submit2 = rf_pip.predict(test)\n",
    "\n",
    "pipeline_logistic.fit(X,y)\n",
    "submit3 = pipeline_logistic.predict(test)\n",
    "\n",
    "submit4 = final_knn.predict(test)\n",
    "\n",
    "lgb_pip.fit(X,y)\n",
    "submit5 = lgb_pip.predict(test)"
   ]
  },
  {
   "cell_type": "code",
   "execution_count": 309,
   "metadata": {},
   "outputs": [],
   "source": [
    "submit = ((submit1 + submit2 + submit3 + submit4 )/4 > 0.5).astype(int)\n",
    "survived = pd.DataFrame({'Survived':submit})\n",
    "submit_csv = pd.concat([test.PassengerId,survived],axis=1)\n",
    "#print(submit)\n",
    "submit_csv.to_csv('submit.csv',index=False) "
   ]
  },
  {
   "cell_type": "code",
   "execution_count": null,
   "metadata": {},
   "outputs": [],
   "source": []
  }
 ],
 "metadata": {
  "kernelspec": {
   "display_name": "Python 3",
   "language": "python",
   "name": "python3"
  },
  "language_info": {
   "codemirror_mode": {
    "name": "ipython",
    "version": 3
   },
   "file_extension": ".py",
   "mimetype": "text/x-python",
   "name": "python",
   "nbconvert_exporter": "python",
   "pygments_lexer": "ipython3",
   "version": "3.6.4"
  }
 },
 "nbformat": 4,
 "nbformat_minor": 2
}
